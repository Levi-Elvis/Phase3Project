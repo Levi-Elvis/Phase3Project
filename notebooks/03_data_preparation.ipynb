{
 "cells": [
  {
   "cell_type": "markdown",
   "id": "51b710a8",
   "metadata": {},
   "source": [
    "# 03 Data Preparation"
   ]
  }
 ],
 "metadata": {},
 "nbformat": 4,
 "nbformat_minor": 5
}
