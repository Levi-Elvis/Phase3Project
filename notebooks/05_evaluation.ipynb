{
 "cells": [
  {
   "cell_type": "markdown",
   "id": "3a348fa0",
   "metadata": {},
   "source": [
    "# 05 Evaluation"
   ]
  },
  {
   "cell_type": "markdown",
   "id": "621137f0",
   "metadata": {},
   "source": [
    "## Step 1: Load Required Libraries and Data\n",
    "We import the standard libraries needed for performance metrics and visualization."
   ]
  },
  {
   "cell_type": "code",
   "execution_count": 15,
   "id": "0b68febf",
   "metadata": {},
   "outputs": [],
   "source": [
    "import pandas as pd\n",
    "import matplotlib.pyplot as plt\n",
    "import seaborn as sns\n",
    "from sklearn.metrics import classification_report, confusion_matrix, roc_auc_score, roc_curve, accuracy_score, f1_score\n",
    "\n",
    "# Simulated true labels and predictions (replace with actual data in production)\n",
    "y_true = [0, 1, 0, 1, 0, 1, 1, 0]\n",
    "y_pred = [0, 1, 0, 0, 0, 1, 1, 1]\n",
    "y_prob = [0.2, 0.8, 0.1, 0.4, 0.3, 0.7, 0.9, 0.6]"
   ]
  },
  {
   "cell_type": "markdown",
   "id": "27dfdda2",
   "metadata": {},
   "source": [
    "## Step 2: Generate Classification Report\n",
    "We compute precision, recall, F1-score, and support for both classes."
   ]
  },
  {
   "cell_type": "code",
   "execution_count": 16,
   "id": "25377115",
   "metadata": {},
   "outputs": [
    {
     "data": {
      "text/html": [
       "<div>\n",
       "<style scoped>\n",
       "    .dataframe tbody tr th:only-of-type {\n",
       "        vertical-align: middle;\n",
       "    }\n",
       "\n",
       "    .dataframe tbody tr th {\n",
       "        vertical-align: top;\n",
       "    }\n",
       "\n",
       "    .dataframe thead th {\n",
       "        text-align: right;\n",
       "    }\n",
       "</style>\n",
       "<table border=\"1\" class=\"dataframe\">\n",
       "  <thead>\n",
       "    <tr style=\"text-align: right;\">\n",
       "      <th></th>\n",
       "      <th>precision</th>\n",
       "      <th>recall</th>\n",
       "      <th>f1-score</th>\n",
       "      <th>support</th>\n",
       "    </tr>\n",
       "  </thead>\n",
       "  <tbody>\n",
       "    <tr>\n",
       "      <th>0</th>\n",
       "      <td>0.75</td>\n",
       "      <td>0.75</td>\n",
       "      <td>0.75</td>\n",
       "      <td>4.00</td>\n",
       "    </tr>\n",
       "    <tr>\n",
       "      <th>1</th>\n",
       "      <td>0.75</td>\n",
       "      <td>0.75</td>\n",
       "      <td>0.75</td>\n",
       "      <td>4.00</td>\n",
       "    </tr>\n",
       "    <tr>\n",
       "      <th>accuracy</th>\n",
       "      <td>0.75</td>\n",
       "      <td>0.75</td>\n",
       "      <td>0.75</td>\n",
       "      <td>0.75</td>\n",
       "    </tr>\n",
       "    <tr>\n",
       "      <th>macro avg</th>\n",
       "      <td>0.75</td>\n",
       "      <td>0.75</td>\n",
       "      <td>0.75</td>\n",
       "      <td>8.00</td>\n",
       "    </tr>\n",
       "    <tr>\n",
       "      <th>weighted avg</th>\n",
       "      <td>0.75</td>\n",
       "      <td>0.75</td>\n",
       "      <td>0.75</td>\n",
       "      <td>8.00</td>\n",
       "    </tr>\n",
       "  </tbody>\n",
       "</table>\n",
       "</div>"
      ],
      "text/plain": [
       "              precision  recall  f1-score  support\n",
       "0                  0.75    0.75      0.75     4.00\n",
       "1                  0.75    0.75      0.75     4.00\n",
       "accuracy           0.75    0.75      0.75     0.75\n",
       "macro avg          0.75    0.75      0.75     8.00\n",
       "weighted avg       0.75    0.75      0.75     8.00"
      ]
     },
     "execution_count": 16,
     "metadata": {},
     "output_type": "execute_result"
    }
   ],
   "source": [
    "report_dict = classification_report(y_true, y_pred, output_dict=True)\n",
    "report_df = pd.DataFrame(report_dict).transpose().round(3)\n",
    "report_df"
   ]
  },
  {
   "cell_type": "markdown",
   "id": "2e0fe9ab",
   "metadata": {},
   "source": [
    "## Step 3: Confusion Matrix\n",
    "Visualizing the confusion matrix helps understand the distribution of true positives, false positives, true negatives, and false negatives."
   ]
  },
  {
   "cell_type": "code",
   "execution_count": 17,
   "id": "15d05d3f",
   "metadata": {},
   "outputs": [
    {
     "data": {
      "image/png": "[encoded data removed]",
      "text/plain": [
       "<Figure size 432x360 with 2 Axes>"
      ]
     },
     "metadata": {
      "needs_background": "light"
     },
     "output_type": "display_data"
    }
   ],
   "source": [
    "conf_matrix = confusion_matrix(y_true, y_pred)\n",
    "plt.figure(figsize=(6, 5))\n",
    "sns.heatmap(conf_matrix, annot=True, fmt='d', cmap='Blues',\n",
    "            xticklabels=['Low', 'High'], yticklabels=['Low', 'High'])\n",
    "plt.title('Confusion Matrix')\n",
    "plt.xlabel('Predicted')\n",
    "plt.ylabel('Actual')\n",
    "plt.tight_layout()\n",
    "plt.show()"
   ]
  },
  {
   "cell_type": "markdown",
   "id": "abd97cef",
   "metadata": {},
   "source": [
    "## Step 4: ROC Curve and AUC\n",
    "The ROC curve illustrates the model's ability to distinguish between classes. The closer the curve follows the top-left border, the better."
   ]
  },
  {
   "cell_type": "code",
   "execution_count": 18,
   "id": "7bc44341",
   "metadata": {},
   "outputs": [
    {
     "data": {
      "image/png": "[encoded data removed]",
      "text/plain": [
       "<Figure size 432x360 with 1 Axes>"
      ]
     },
     "metadata": {
      "needs_background": "light"
     },
     "output_type": "display_data"
    }
   ],
   "source": [
    "fpr, tpr, _ = roc_curve(y_true, y_prob)\n",
    "roc_auc = roc_auc_score(y_true, y_prob)\n",
    "\n",
    "plt.figure(figsize=(6, 5))\n",
    "plt.plot(fpr, tpr, label=f'ROC Curve (AUC = {roc_auc:.2f})')\n",
    "plt.plot([0, 1], [0, 1], 'k--')\n",
    "plt.title('ROC Curve')\n",
    "plt.xlabel('False Positive Rate')\n",
    "plt.ylabel('True Positive Rate')\n",
    "plt.legend(loc='lower right')\n",
    "plt.tight_layout()\n",
    "plt.show()"
   ]
  },
  {
   "cell_type": "markdown",
   "id": "4b8d18c7",
   "metadata": {},
   "source": [
    "## Step 5: Key Metrics Summary\n",
    "We summarize the key metrics: Accuracy, F1 Score, and ROC AUC."
   ]
  },
  {
   "cell_type": "code",
   "execution_count": 19,
   "id": "6d2aca61",
   "metadata": {},
   "outputs": [
    {
     "data": {
      "text/html": [
       "<div>\n",
       "<style scoped>\n",
       "    .dataframe tbody tr th:only-of-type {\n",
       "        vertical-align: middle;\n",
       "    }\n",
       "\n",
       "    .dataframe tbody tr th {\n",
       "        vertical-align: top;\n",
       "    }\n",
       "\n",
       "    .dataframe thead th {\n",
       "        text-align: right;\n",
       "    }\n",
       "</style>\n",
       "<table border=\"1\" class=\"dataframe\">\n",
       "  <thead>\n",
       "    <tr style=\"text-align: right;\">\n",
       "      <th></th>\n",
       "      <th>Metric</th>\n",
       "      <th>Value</th>\n",
       "    </tr>\n",
       "  </thead>\n",
       "  <tbody>\n",
       "    <tr>\n",
       "      <th>0</th>\n",
       "      <td>Accuracy</td>\n",
       "      <td>0.750</td>\n",
       "    </tr>\n",
       "    <tr>\n",
       "      <th>1</th>\n",
       "      <td>F1 Score</td>\n",
       "      <td>0.750</td>\n",
       "    </tr>\n",
       "    <tr>\n",
       "      <th>2</th>\n",
       "      <td>ROC AUC</td>\n",
       "      <td>0.938</td>\n",
       "    </tr>\n",
       "  </tbody>\n",
       "</table>\n",
       "</div>"
      ],
      "text/plain": [
       "     Metric  Value\n",
       "0  Accuracy  0.750\n",
       "1  F1 Score  0.750\n",
       "2   ROC AUC  0.938"
      ]
     },
     "execution_count": 19,
     "metadata": {},
     "output_type": "execute_result"
    }
   ],
   "source": [
    "metrics_summary = pd.DataFrame({\n",
    "    'Metric': ['Accuracy', 'F1 Score', 'ROC AUC'],\n",
    "    'Value': [accuracy_score(y_true, y_pred), f1_score(y_true, y_pred), roc_auc]\n",
    "})\n",
    "metrics_summary.round(3)"
   ]
  },
  {
   "cell_type": "markdown",
   "id": "a26f1eaa",
   "metadata": {},
   "source": [
    "## Step 6: Business Fit and Trust Considerations\n",
    "Based on the evaluation:\n",
    "- Accuracy and AUC indicate moderate predictive strength.\n",
    "- Confusion matrix shows reasonable balance but may need tuning if cost of false negatives is high.\n",
    "- LIME and SHAP tools previously used improve model transparency and explainability.\n",
    "\n",
    "**Next Actions:**\n",
    "- Review class distribution and possibly oversample.\n",
    "- Explore ensembling or threshold adjustment.\n",
    "- Validate with domain stakeholders for decision support."
   ]
  }
 ],
 "metadata": {
  "kernelspec": {
   "display_name": "learn-env",
   "language": "python",
   "name": "python3"
  },
  "language_info": {
   "codemirror_mode": {
    "name": "ipython",
    "version": 3
   },
   "file_extension": ".py",
   "mimetype": "text/x-python",
   "name": "python",
   "nbconvert_exporter": "python",
   "pygments_lexer": "ipython3",
   "version": "3.8.5"
  }
 },
 "nbformat": 4,
 "nbformat_minor": 5
}
