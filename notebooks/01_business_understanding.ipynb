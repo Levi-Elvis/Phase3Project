{
 "cells": [
  {
   "cell_type": "markdown",
   "id": "b3d18c7a",
   "metadata": {},
   "source": [
    "# 01 Business Understanding"
   ]
  }
 ],
 "metadata": {},
 "nbformat": 4,
 "nbformat_minor": 5
}
