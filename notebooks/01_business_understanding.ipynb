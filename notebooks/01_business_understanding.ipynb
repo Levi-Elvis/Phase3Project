{
 "cells": [
  {
   "cell_type": "markdown",
   "id": "b3d18c7a",
   "metadata": {},
   "source": [
    "# 01 Business Understanding"
   ]
  },
  {
   "cell_type": "markdown",
   "id": "b8d542c9",
   "metadata": {},
   "source": [
    "## 1. Background\n",
    "\n",
    "This project centers around understanding how individual demographic, financial behavior, and psychological traits influence a person’s financial goal outcomes.\n",
    " (represented by the variable GOAL).\n"
   ]
  },
  {
   "cell_type": "markdown",
   "id": "6cf484e5",
   "metadata": {},
   "source": [
    "The dataset originates from a structured behavioral finance study, drawn from:\n",
    "\n",
    "- Theory of Planned Behavior (TPB) (via constructs like PBC, RA, RP, BI)\n",
    "\n",
    "- Financial product ownership patterns\n",
    "\n",
    "- Demographic segmentation\n",
    "\n",
    "This study may aim to assist:\n",
    "\n",
    "- Financial institutions in segmenting customers\n",
    "\n",
    "- Fintech platforms in building personalized advisory tools\n",
    "\n",
    "- Researchers in analyzing behavioral predictors of financial success"
   ]
  },
  {
   "cell_type": "markdown",
   "id": "55ec1de3",
   "metadata": {},
   "source": [
    "## 2. Business Objectives"
   ]
  },
  {
   "cell_type": "markdown",
   "id": "f8011548",
   "metadata": {},
   "source": [
    "### Primary Objective:\n",
    "To predict and explain financial goal outcomes (GOAL) based on personal characteristics and behaviors.\n",
    "\n",
    "### Sub-Objectives:\n",
    "- Identify the strongest behavioral and demographic predictors of successful financial outcomes.\n",
    "\n",
    "- Build interpretable models to enable personalized financial advice.\n",
    "\n",
    "- Provide actionable insights to segment individuals based on:\n",
    "\n",
    "        - Investment preferences\n",
    "\n",
    "        - Risk tolerance\n",
    "\n",
    "        - Behavioral intent"
   ]
  },
  {
   "cell_type": "markdown",
   "id": "e187bd7c",
   "metadata": {},
   "source": [
    "# 3. Success Criteria"
   ]
  },
  {
   "cell_type": "markdown",
   "id": "db0731d9",
   "metadata": {},
   "source": [
    "This models success threshold will be pegged on the following metrics"
   ]
  },
  {
   "cell_type": "markdown",
   "id": "9b8833ef",
   "metadata": {},
   "source": [
    "| Metric                                    | Success Threshold                                                |\n",
    "| ----------------------------------------- | ---------------------------------------------------------------- |\n",
    "|  **Model Accuracy** (using regression)     | RMSE < 50 (or as justified by data scale)                        |\n",
    "|  **Model Accuracy** (using classification) | Accuracy > 85%, F1 > 0.80                                        |\n",
    "|  **Explainability**                     | Top 5 features identified with SHAP or coefficients              |\n",
    "|  **Segmentation Validity**              | Distinct personas emerge from unsupervised clustering            |\n",
    "|  **Business Usefulness**                | Model recommendations map to meaningful product/service insights |\n"
   ]
  },
  {
   "cell_type": "markdown",
   "id": "b9a53e6c",
   "metadata": {},
   "source": [
    "# 4. Business Constraints\n",
    "“This model will be operating under the following limitations/constraints”\n",
    "\n",
    "a.) Dataset appears numerically encoded — semantic meaning must be reconstructed\n",
    "\n",
    "b.) Lack of time dimension: no temporal evolution or trends\n",
    "\n",
    "c.) Survey bias: responses may reflect self-reporting inaccuracies\n",
    "\n",
    "d.) No geolocation: regional financial behavior trends are not captured\n",
    "\n",
    "e.) Black-box behavioral codes (PBC1–PBC4, BI1–2, etc.) require decoding or assumptions"
   ]
  },
  {
   "cell_type": "markdown",
   "id": "050aa3e6",
   "metadata": {},
   "source": [
    "# 5. Assumptions\n",
    "\n",
    "“The model will be anchored on the following assumptions:\"\n",
    "\n",
    "a.) Each variable (e.g., RA1–RA3, PBC1–4) accurately reflects an underlying behavioral construct\n",
    "\n",
    "b) GOAL represents a real, measurable financial performance indicator or behavior score\n",
    "\n",
    "c.) The coded values are consistently applied across all respondents\n",
    "\n",
    "d) All individuals are independent (i.e., no clustering by family, region, etc.)\n",
    "\n",
    "e) Financial product indicators (e.g., CASH, GOLD, EQUITY) are binary or ordinal with clear semantic encoding"
   ]
  },
  {
   "cell_type": "markdown",
   "id": "f3ad425d",
   "metadata": {},
   "source": [
    "# 6. Stakeholders\n",
    "\n",
    "“The project analysis aims to benefit the following stakeholders\""
   ]
  },
  {
   "cell_type": "markdown",
   "id": "723839e6",
   "metadata": {},
   "source": [
    "| Stakeholder                   | How They Benefit                                             |\n",
    "| ----------------------------- | ------------------------------------------------------------ |\n",
    "| **Banks & Fintech Firms**  | Use insights for better financial product targeting          |\n",
    "| **Behavioral Researchers** | Understand how behavior affects financial success            |\n",
    "| **Data Scientists**        | Apply machine learning on real world behavior modeling       |\n",
    "| **Consumers**              | Receive better financial advice via personalized systems     |\n",
    "| **Educators**              | Integrate findings into financial literacy training programs |\n"
   ]
  },
  {
   "cell_type": "markdown",
   "id": "3b2ec592",
   "metadata": {},
   "source": [
    "# 7. Project Risks\n",
    "“The following risks are anticipanted and could derail our analysis”\n",
    "\n",
    "a.) Ambiguity of GOAL: if the target variable isn’t well-defined, modeling becomes meaningless\n",
    "\n",
    "b.) Overfitting: behavioral variables may be noisy or highly correlated\n",
    "\n",
    "c.) Bias: demographic imbalance could distort generalizability\n",
    "\n",
    "d.) Interpretability Risk: lack of decoding of behavioral items makes communication to stakeholders difficult\n",
    "\n",
    "e.) Ethical Risk: profiling based on income/education/behavior must be transparent and fair"
   ]
  },
  {
   "cell_type": "markdown",
   "id": "1116520e",
   "metadata": {},
   "source": [
    "# 8. Business Questions Framed \n",
    "\n",
    "This model will seek to answer the following questions\n",
    "\n",
    "a.) Can we predict an individual’s financial goal achievement score using behavioral and demographic data?\n",
    "\n",
    "b.) What investment behaviors (e.g., CASH, MUTUAL_FUNDS) are most associated with high GOAL scores?\n",
    "\n",
    "c.) How do psychometric traits like risk attitude and perceived control influence outcomes?\n",
    "\n",
    "d.) Can we derive interpretable personas such as “Risk-Averse Saver” or “Confident Investor”?\n",
    "\n",
    "e.) Does education level or occupation impact financial goal achievement?\n",
    "\n"
   ]
  },
  {
   "cell_type": "markdown",
   "id": "5f2286c4",
   "metadata": {},
   "source": [
    "\n",
    "\n",
    "\n",
    "## Summary\n",
    "\n",
    "“This project aims to uncover the behavioral, demographic, and financial factors that influence individual financial outcomes. Using an encoded dataset representing traits such as risk attitude, behavioral intent, and investment preferences, we will model and interpret the drivers of financial goal achievement. The insights will guide targeted financial advice, behavior based segmentation, and future product design in finance and fintech industries."
   ]
  }
 ],
 "metadata": {
  "language_info": {
   "name": "python"
  }
 },
 "nbformat": 4,
 "nbformat_minor": 5
}
